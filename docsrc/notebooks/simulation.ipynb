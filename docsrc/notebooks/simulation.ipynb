{
 "cells": [
  {
   "cell_type": "markdown",
   "metadata": {
    "slideshow": {
     "slide_type": "slide"
    }
   },
   "source": [
    "Testing `mushi` with `stdpopsim` simulations\n",
    "=="
   ]
  },
  {
   "cell_type": "code",
   "execution_count": null,
   "metadata": {
    "slideshow": {
     "slide_type": "slide"
    }
   },
   "outputs": [],
   "source": [
    "import mushi\n",
    "import mushi.composition as cmp\n",
    "\n",
    "import msprime\n",
    "import stdpopsim\n",
    "from IPython.display import SVG\n",
    "import numpy as np\n",
    "import matplotlib as mpl\n",
    "from matplotlib.lines import Line2D\n",
    "from matplotlib import pyplot as plt\n",
    "from scipy.special import expit\n",
    "import time"
   ]
  },
  {
   "cell_type": "markdown",
   "metadata": {},
   "source": [
    "## Time grid"
   ]
  },
  {
   "cell_type": "code",
   "execution_count": null,
   "metadata": {},
   "outputs": [],
   "source": [
    "change_points = np.logspace(0, np.log10(100000), 100)\n",
    "t = np.concatenate((np.array([0]), change_points))"
   ]
  },
  {
   "cell_type": "markdown",
   "metadata": {},
   "source": [
    "## Sawtooth demographic history $\\eta(t)$"
   ]
  },
  {
   "cell_type": "code",
   "execution_count": null,
   "metadata": {},
   "outputs": [],
   "source": [
    "species = stdpopsim.get_species(\"HomSap\")\n",
    "model = species.get_demographic_model(\"Zigzag_1S14\")\n",
    "ddb = model.get_demography_debugger()\n",
    "eta_true = mushi.eta(change_points, 2 * ddb.population_size_trajectory(steps=t)[:, 0])\n",
    "\n",
    "plt.figure(figsize=(3.5, 3.5))\n",
    "eta_true.plot(c='k')\n",
    "plt.show()"
   ]
  },
  {
   "cell_type": "markdown",
   "metadata": {},
   "source": [
    "## Mutation rate history $\\mu(t)$\n",
    "A 96 dimensional history with a mixture of two latent signature: constant and pulse."
   ]
  },
  {
   "cell_type": "code",
   "execution_count": null,
   "metadata": {},
   "outputs": [],
   "source": [
    "flat = np.ones_like(t)\n",
    "pulse = expit(.1 * (t - 100)) - expit(.01 * (t - 2000))\n",
    "ramp = expit(-.01 * (t - 100)) \n",
    "n_mutation_types = 96\n",
    "Z = np.zeros((len(t), n_mutation_types))\n",
    "mu0 = 1\n",
    "np.random.seed(0)\n",
    "\n",
    "Z[:, 0] = mu0 * (1 * flat + .5 * pulse)\n",
    "\n",
    "Z[:, 1] = mu0 * (.5 * flat + .4 * ramp)\n",
    "\n",
    "for col in range(2, n_mutation_types):\n",
    "    scale = np.random.lognormal(-.2, .3)\n",
    "    pulse_weight = 5 if col == 0 else 0\n",
    "    Z[:, col] = mu0 * scale * flat\n",
    "\n",
    "mu_true = mushi.mu(change_points, Z)\n",
    "\n",
    "plt.figure(figsize=(4, 4))\n",
    "mu_true.plot(range(2, n_mutation_types), alpha=0.1, lw=2, c='C0', clr=True)\n",
    "mu_true.plot((0,), alpha=0.75, lw=3, c='C1', clr=True)\n",
    "mu_true.plot((1,), alpha=0.75, lw=3, c='C2', clr=True)\n",
    "plt.show()"
   ]
  },
  {
   "cell_type": "code",
   "execution_count": null,
   "metadata": {},
   "outputs": [],
   "source": [
    "# estimate constant total mutation rate using most recent time point\n",
    "mu0 = mu_true.Z[0, :].sum()\n",
    "print(mu0)"
   ]
  },
  {
   "cell_type": "markdown",
   "metadata": {
    "slideshow": {
     "slide_type": "slide"
    }
   },
   "source": [
    "## `stdpopsim` simulation\n",
    "- 200 sampled haplotypes\n",
    "- generate initial tree sequence without mutations, then we'll place mutations according to the MuSH"
   ]
  },
  {
   "cell_type": "code",
   "execution_count": null,
   "metadata": {
    "slideshow": {
     "slide_type": "-"
    }
   },
   "outputs": [],
   "source": [
    "n = 200\n",
    "chrom = 1\n",
    "species = stdpopsim.get_species('HomSap')\n",
    "contig = species.get_contig(f'chr{chrom}')\n",
    "contig = stdpopsim.Contig(recombination_map=contig.recombination_map, mutation_rate=0, genetic_map=contig.genetic_map)\n",
    "model = stdpopsim.PiecewiseConstantSize(eta_true.y[0] / 2, *zip(change_points, eta_true.y[1:] / 2))\n",
    "samples = model.get_samples(n)\n",
    "engine = stdpopsim.get_default_engine()\n",
    "ts = engine.simulate(model, contig, samples, mutation_rate=0)"
   ]
  },
  {
   "cell_type": "code",
   "execution_count": null,
   "metadata": {},
   "outputs": [],
   "source": [
    "ts.num_trees"
   ]
  },
  {
   "cell_type": "markdown",
   "metadata": {
    "slideshow": {
     "slide_type": "slide"
    }
   },
   "source": [
    "First tree in the tree sequence"
   ]
  },
  {
   "cell_type": "code",
   "execution_count": null,
   "metadata": {
    "slideshow": {
     "slide_type": "-"
    }
   },
   "outputs": [],
   "source": [
    "SVG(ts.first().draw(format='svg', width=500, height=200,\n",
    "                    node_labels={}, mutation_labels={}))"
   ]
  },
  {
   "cell_type": "markdown",
   "metadata": {
    "slideshow": {
     "slide_type": "slide"
    }
   },
   "source": [
    "## Simulate $k$-SFS\n",
    "- place mutations on simulated tree sequence according to $\\boldsymbol\\mu(t)$\n",
    "- iterate over mutation types and epochs\n",
    "- compute component of $k$-SFS for each iterate"
   ]
  },
  {
   "cell_type": "code",
   "execution_count": null,
   "metadata": {},
   "outputs": [],
   "source": [
    "X = np.zeros((n - 1, n_mutation_types))\n",
    "for start_time, end_time, mutation_rate in mu_true.epochs():\n",
    "    mutation_rate_total = mutation_rate.sum()\n",
    "    print(f'epoch boundaries: ({start_time:.2f}, {end_time:.2f}), μ: {mutation_rate_total:.2f}     ',\n",
    "          flush=True, end='     \\r')\n",
    "    # note: the factor of 1 / chrom.length is needed to scale the mutation rate from sites to genomes\n",
    "    ts_temp = msprime.mutate(ts,\n",
    "                             rate=mutation_rate_total / species.genome.chromosomes[chrom - 1].length,                                   \n",
    "                             start_time=start_time,\n",
    "                             end_time=end_time,\n",
    "                             random_seed=1,\n",
    "                             keep=True)\n",
    "    for var in ts_temp.variants():\n",
    "        i = var.genotypes.sum() - 1\n",
    "        j = np.random.choice(n_mutation_types, p=(mutation_rate / mutation_rate_total))\n",
    "        X[i, j] += 1\n",
    "        \n",
    "ksfs = mushi.kSFS(X=X)"
   ]
  },
  {
   "cell_type": "code",
   "execution_count": null,
   "metadata": {
    "slideshow": {
     "slide_type": "-"
    }
   },
   "outputs": [],
   "source": [
    "plt.figure(figsize=(4, 3))\n",
    "ksfs.plot_total(kwargs=dict(ls='', marker='o', ms=5, c='k', alpha=0.75),\n",
    "                line_kwargs=dict(c='C0', alpha=0.75, lw=3),\n",
    "                fill_kwargs=dict(color='C0', alpha=0.1))\n",
    "plt.xscale('log')\n",
    "plt.yscale('log')\n",
    "\n",
    "plt.figure(figsize=(4, 3))\n",
    "ksfs.plot(range(2, n_mutation_types), clr=True, kwargs=dict(alpha=0.1, ls='', marker='.', c='C0'))\n",
    "ksfs.plot((0,), clr=True, kwargs=dict(alpha=0.75, ls='', marker='o', c='C1'))\n",
    "ksfs.plot((1,), clr=True, kwargs=dict(alpha=0.75, ls='', marker='o', c='C2'))\n",
    "plt.show()"
   ]
  },
  {
   "cell_type": "code",
   "execution_count": null,
   "metadata": {},
   "outputs": [],
   "source": [
    "ksfs.X.sum()"
   ]
  },
  {
   "cell_type": "markdown",
   "metadata": {
    "slideshow": {
     "slide_type": "slide"
    }
   },
   "source": [
    "TMRCA CDF"
   ]
  },
  {
   "cell_type": "code",
   "execution_count": null,
   "metadata": {
    "scrolled": true,
    "slideshow": {
     "slide_type": "-"
    }
   },
   "outputs": [],
   "source": [
    "plt.figure(figsize=(3.5, 3.5))\n",
    "plt.plot(change_points, ksfs.tmrca_cdf(eta_true))\n",
    "# TODO: qq plot with empirical CDF from ts!\n",
    "# plt.axvline(max(root.time for root in ts.roots()))\n",
    "plt.xlabel('$t$')\n",
    "plt.ylabel('TMRCA CDF')\n",
    "plt.ylim([0, 1])\n",
    "plt.xscale('log')\n",
    "plt.tight_layout()\n",
    "plt.show()"
   ]
  },
  {
   "cell_type": "markdown",
   "metadata": {
    "slideshow": {
     "slide_type": "slide"
    }
   },
   "source": [
    "## Infer $\\eta(t)$ and $\\boldsymbol\\mu(t)$\n",
    "\n",
    "Define regularization parameters and convergence criteria. We use a tolerance of zero and a very large number of iterations."
   ]
  },
  {
   "cell_type": "code",
   "execution_count": null,
   "metadata": {},
   "outputs": [],
   "source": [
    "convergence = dict(tol=0, max_iter=10000)\n",
    "regularization_eta = dict(alpha_tv=2e0, alpha_spline=1e2, alpha_ridge=1e-10)"
   ]
  },
  {
   "cell_type": "markdown",
   "metadata": {},
   "source": [
    "Clear out histories (just in case) and run inference"
   ]
  },
  {
   "cell_type": "code",
   "execution_count": null,
   "metadata": {},
   "outputs": [],
   "source": [
    "ksfs.clear_eta()\n",
    "ksfs.clear_mu()\n",
    "\n",
    "ksfs.infer_history(change_points, mu0, infer_mu=False,\n",
    "                   **regularization_eta, **convergence)"
   ]
  },
  {
   "cell_type": "markdown",
   "metadata": {},
   "source": [
    "Plot results"
   ]
  },
  {
   "cell_type": "code",
   "execution_count": null,
   "metadata": {
    "slideshow": {
     "slide_type": "-"
    }
   },
   "outputs": [],
   "source": [
    "plt.figure(figsize=(8, 4))\n",
    "plt.subplot(121)\n",
    "ksfs.plot_total(kwargs=dict(ls='', marker='o', ms=5, c='k', alpha=0.75),\n",
    "                line_kwargs=dict(c='C0', alpha=0.75, lw=3),\n",
    "                fill_kwargs=dict(color='C0', alpha=0.1))\n",
    "plt.xscale('log')\n",
    "plt.yscale('log')\n",
    "\n",
    "plt.subplot(122)\n",
    "eta_true.plot(c='k', lw=2, label='true')\n",
    "ksfs.eta.plot(lw=3, alpha=0.75, label='inferred')\n",
    "plt.legend()\n",
    "plt.show()"
   ]
  },
  {
   "cell_type": "code",
   "execution_count": null,
   "metadata": {},
   "outputs": [],
   "source": [
    "ksfs.clear_mu()\n",
    "\n",
    "# define regularization parameters and convergence criteria\n",
    "regularization_mu = dict(beta_rank=2e1, beta_tv=1e2, beta_spline=1e3, beta_ridge=1e-10)\n",
    "convergence = dict(tol=0, max_iter=10000)\n",
    "\n",
    "ksfs.infer_history(change_points, mu0, infer_eta=False,\n",
    "                   **regularization_mu, **convergence)\n",
    "\n",
    "plt.figure(figsize=(9, 3))\n",
    "\n",
    "plt.subplot(131)\n",
    "ksfs.plot(range(2, n_mutation_types), clr=True, kwargs=dict(alpha=0.1, ls='', marker='.', ms=5, mfc='none', c='C0', rasterized=True),\n",
    "          line_kwargs=dict(alpha=0.1, lw=1, c='C0', rasterized=True))\n",
    "ksfs.plot((0,), clr=True, kwargs=dict(alpha=0.75, ls='', marker='.', ms=10, mfc='none', c='C1'),\n",
    "          line_kwargs=dict(alpha=0.75, lw=2, c='C1'))\n",
    "ksfs.plot((1,), clr=True, kwargs=dict(alpha=0.75, ls='', marker='.', ms=10, mfc='none', c='C2'),\n",
    "          line_kwargs=dict(alpha=0.75, lw=2, c='C2'))\n",
    "\n",
    "plt.subplot(132)\n",
    "mu_true.plot(range(2, n_mutation_types), alpha=0.1, lw=2, c='C0', clr=True, rasterized=True)\n",
    "ksfs.mu.plot(range(2, n_mutation_types), alpha=0.1, lw=3, ls='--', c='C0', clr=True, rasterized=True)\n",
    "mu_true.plot((0,), alpha=0.75, lw=2, c='C1', clr=True)\n",
    "ksfs.mu.plot((0,), alpha=0.75, lw=3, ls='--', c='C1', clr=True)\n",
    "mu_true.plot((1,), alpha=0.75, lw=2, c='C2', clr=True)\n",
    "ksfs.mu.plot((1,), alpha=0.75, lw=3, ls='--', c='C2', clr=True)\n",
    "\n",
    "plt.subplot(133)\n",
    "σ = np.linalg.svd(cmp.ilr(ksfs.mu.Z), compute_uv=False)\n",
    "x = np.arange(1, len(σ) + 1)\n",
    "plt.scatter(x, σ)\n",
    "plt.plot(x, σ, 'ko', ms=5, mfc='none', mew=.1)\n",
    "plt.xscale('log')\n",
    "plt.yscale('log')\n",
    "plt.xlabel('singular value rank')\n",
    "plt.ylabel('singular value')\n",
    "plt.tight_layout()\n",
    "plt.show()"
   ]
  },
  {
   "cell_type": "markdown",
   "metadata": {},
   "source": [
    "## Summary plots"
   ]
  },
  {
   "cell_type": "code",
   "execution_count": null,
   "metadata": {},
   "outputs": [],
   "source": [
    "mpl.rc('text', usetex=True)\n",
    "mpl.rcParams['text.latex.preamble']=[r\"\\usepackage{amsmath}\"]\n",
    "\n",
    "fig, axes = plt.subplots(nrows=2, ncols=2, sharex='col', figsize=(5.9, 5.5), gridspec_kw={'height_ratios': [1, 3]})\n",
    "\n",
    "plt.sca(axes[0, 0])\n",
    "ksfs.plot_total(kwargs=dict(ls='', alpha=0.75, marker='o', ms=5, mfc='none', c='k', label=r'simulated SFS, $\\mathbf x$'),\n",
    "                line_kwargs=dict(c='r', ls=':', marker='.', ms=3, alpha=0.75, lw=1, label=r'reconstructed SFS, $\\boldsymbol{\\xi}$'),\n",
    "                fill_kwargs=dict(alpha=0))\n",
    "plt.yscale('log')\n",
    "plt.xlabel(None)\n",
    "plt.legend(fontsize=8)\n",
    "\n",
    "plt.sca(axes[1, 0])\n",
    "ksfs.plot(range(2, n_mutation_types), clr=True, kwargs=dict(alpha=0.1, ls='', marker='o', ms=3, mfc='none', rasterized=True),\n",
    "          line_kwargs=dict(ls=':', marker='.', ms=2, alpha=0.1, lw=1, rasterized=True))\n",
    "ksfs.plot((0,), clr=True, kwargs=dict(ls='', marker='o', ms=5, mfc='none', c='C0'),\n",
    "          line_kwargs=dict(ls=':', marker='.', ms=3, alpha=0.75, lw=2, c='C0'))\n",
    "ksfs.plot((1,), clr=True, kwargs=dict(ls='', marker='o', ms=5, mfc='none', c='C1'),\n",
    "          line_kwargs=dict(ls=':', marker='.', ms=3, alpha=0.75, lw=2, c='C1'))\n",
    "plt.ylabel('variant count composition')\n",
    "legend_elements = [Line2D([0], [0], ls='', marker='o', ms=5, mfc='none', color='k', label=r'simulated $k$-SFS, $\\mathrm{clr}(\\mathbf X)$'),\n",
    "                   Line2D([0], [0], ls=':', marker='.', color='k', ms=3, lw=1, label=r'reconstructed $k$-SFS, $\\mathrm{clr}(\\boldsymbol\\Xi)$')]\n",
    "plt.legend(handles=legend_elements, loc='lower left', fontsize=8)\n",
    "\n",
    "plt.sca(axes[0, 1])\n",
    "eta_true.plot(c='k', alpha=1, lw=3, label='true')\n",
    "ksfs.eta.plot(c='r', alpha=0.75, lw=2, label='inferred')\n",
    "plt.legend(fontsize=8, loc='upper right')\n",
    "plt.xlabel(None)\n",
    "\n",
    "plt.sca(axes[1, 1])\n",
    "mu_true.plot(range(2, n_mutation_types), alpha=0.2, lw=2, rasterized=True, clr=True)\n",
    "plt.gca().set_prop_cycle(None)\n",
    "ksfs.mu.plot(range(2, n_mutation_types), alpha=0.1, lw=1, ls='--', rasterized=True, clr=True)\n",
    "mu_true.plot((0,), alpha=0.75, lw=3, c='C0', clr=True)\n",
    "ksfs.mu.plot((0,), alpha=0.75, lw=2, c='C0', clr=True, ls='--')\n",
    "mu_true.plot((1,), alpha=0.75, lw=3, c='C1', clr=True)\n",
    "ksfs.mu.plot((1,), alpha=0.75, lw=2, c='C1', clr=True, ls='--')\n",
    "plt.ylabel(r'$\\mathrm{clr}(\\boldsymbol{\\mu}(t))$')\n",
    "legend_elements = [Line2D([0], [0], color='k', lw=2, label='true'),\n",
    "                   Line2D([0], [0], color='k', ls='--', lw=1, label='inferred')]\n",
    "plt.legend(handles=legend_elements, loc='lower left', fontsize=8)\n",
    "plt.xlim([1e1, 5e4])\n",
    "\n",
    "plt.tight_layout()\n",
    "plt.show()"
   ]
  },
  {
   "cell_type": "code",
   "execution_count": null,
   "metadata": {},
   "outputs": [],
   "source": []
  }
 ],
 "metadata": {
  "celltoolbar": "Slideshow",
  "kernelspec": {
   "display_name": "Python 3",
   "language": "python",
   "name": "python3"
  },
  "language_info": {
   "codemirror_mode": {
    "name": "ipython",
    "version": 3
   },
   "file_extension": ".py",
   "mimetype": "text/x-python",
   "name": "python",
   "nbconvert_exporter": "python",
   "pygments_lexer": "ipython3",
   "version": "3.7.6"
  }
 },
 "nbformat": 4,
 "nbformat_minor": 2
}
